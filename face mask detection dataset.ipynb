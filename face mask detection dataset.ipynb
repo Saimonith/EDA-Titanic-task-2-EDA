{
  "nbformat": 4,
  "nbformat_minor": 0,
  "metadata": {
    "colab": {
      "provenance": [],
      "authorship_tag": "ABX9TyOhrQC0r5+TJh/q+BdllJF9",
      "include_colab_link": true
    },
    "kernelspec": {
      "name": "python3",
      "display_name": "Python 3"
    },
    "language_info": {
      "name": "python"
    }
  },
  "cells": [
    {
      "cell_type": "markdown",
      "metadata": {
        "id": "view-in-github",
        "colab_type": "text"
      },
      "source": [
        "<a href=\"https://colab.research.google.com/github/Saimonith/EDA-Titanic-task-2-EDA/blob/main/face%20mask%20detection%20dataset.ipynb\" target=\"_parent\"><img src=\"https://colab.research.google.com/assets/colab-badge.svg\" alt=\"Open In Colab\"/></a>"
      ]
    },
    {
      "cell_type": "code",
      "execution_count": 1,
      "metadata": {
        "id": "g882KkR0bIA3",
        "outputId": "ffd23dca-bf37-45a2-dcce-92e017165563",
        "colab": {
          "base_uri": "https://localhost:8080/",
          "height": 106
        }
      },
      "outputs": [
        {
          "output_type": "error",
          "ename": "SyntaxError",
          "evalue": "incomplete input (ipython-input-3343701060.py, line 71)",
          "traceback": [
            "\u001b[0;36m  File \u001b[0;32m\"/tmp/ipython-input-3343701060.py\"\u001b[0;36m, line \u001b[0;32m71\u001b[0m\n\u001b[0;31m    for (x,y,w,h) in faces:\u001b[0m\n\u001b[0m                           ^\u001b[0m\n\u001b[0;31mSyntaxError\u001b[0m\u001b[0;31m:\u001b[0m incomplete input\n"
          ]
        }
      ],
      "source": [
        "# Install dependencies before running\n",
        "# pip install tensorflow keras opencv-python\n",
        "\n",
        "import cv2\n",
        "import numpy as np\n",
        "from tensorflow.keras.models import Sequential\n",
        "from tensorflow.keras.layers import Conv2D, MaxPooling2D, Flatten, Dense, Dropout\n",
        "from tensorflow.keras.preprocessing.image import ImageDataGenerator\n",
        "\n",
        "# ---------------------------\n",
        "# STEP 1: Prepare Dataset\n",
        "# ---------------------------\n",
        "train_dir = \"/content/face-mask-dataset/train\"\n",
        "val_dir   = \"/content/face-mask-dataset/val\"\n",
        "\n",
        "train_datagen = ImageDataGenerator(rescale=1./255)\n",
        "val_datagen   = ImageDataGenerator(rescale=1./255)\n",
        "\n",
        "train_gen = train_datagen.flow_from_directory(\n",
        "    train_dir, target_size=(150, 150), batch_size=32, class_mode=\"binary\")\n",
        "\n",
        "val_gen = val_datagen.flow_from_directory(\n",
        "    val_dir, target_size=(150, 150), batch_size=32, class_mode=\"binary\")\n",
        "\n",
        "# ---------------------------\n",
        "# STEP 2: Build CNN Model\n",
        "# ---------------------------\n",
        "model = Sequential([\n",
        "    Conv2D(32, (3,3), activation=\"relu\", input_shape=(150,150,3)),\n",
        "    MaxPooling2D(2,2),\n",
        "\n",
        "    Conv2D(64, (3,3), activation=\"relu\"),\n",
        "    MaxPooling2D(2,2),\n",
        "\n",
        "    Conv2D(128, (3,3), activation=\"relu\"),\n",
        "    MaxPooling2D(2,2),\n",
        "\n",
        "    Flatten(),\n",
        "    Dense(128, activation=\"relu\"),\n",
        "    Dropout(0.5),\n",
        "    Dense(1, activation=\"sigmoid\")\n",
        "])\n",
        "\n",
        "model.compile(optimizer=\"adam\", loss=\"binary_crossentropy\", metrics=[\"accuracy\"])\n",
        "\n",
        "# ---------------------------\n",
        "# STEP 3: Train the Model\n",
        "# ---------------------------\n",
        "history = model.fit(train_gen, epochs=10, validation_data=val_gen)\n",
        "\n",
        "# Save model\n",
        "model.save(\"mask_detector.h5\")\n",
        "\n",
        "# ---------------------------\n",
        "# STEP 4: Real-Time Detection\n",
        "# ---------------------------\n",
        "from tensorflow.keras.models import load_model\n",
        "\n",
        "model = load_model(\"mask_detector.h5\")\n",
        "face_cascade = cv2.CascadeClassifier(cv2.data.haarcascades + \"haarcascade_frontalface_default.xml\")\n",
        "\n",
        "cap = cv2.VideoCapture(0)\n",
        "\n",
        "while True:\n",
        "    ret, frame = cap.read()\n",
        "    if not ret: break\n",
        "\n",
        "    gray = cv2.cvtColor(frame, cv2.COLOR_BGR2GRAY)\n",
        "    faces = face_cascade.detectMultiScale(gray, 1.3, 5)\n",
        "\n",
        "    for (x,y,w,h) in faces:\n"
      ]
    }
  ]
}